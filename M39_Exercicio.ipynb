{
  "nbformat": 4,
  "nbformat_minor": 0,
  "metadata": {
    "colab": {
      "provenance": [],
      "include_colab_link": true
    },
    "kernelspec": {
      "name": "python3",
      "display_name": "Python 3"
    }
  },
  "cells": [
    {
      "cell_type": "markdown",
      "metadata": {
        "id": "view-in-github",
        "colab_type": "text"
      },
      "source": [
        "<a href=\"https://colab.research.google.com/github/FernandaSantos225/da-ebac/blob/main/M39_Exercicio.ipynb\" target=\"_parent\"><img src=\"https://colab.research.google.com/assets/colab-badge.svg\" alt=\"Open In Colab\"/></a>"
      ]
    },
    {
      "cell_type": "markdown",
      "metadata": {
        "id": "KJqp9AANOCtf"
      },
      "source": [
        "<img src=\"https://raw.githubusercontent.com/andre-marcos-perez/ebac-course-utils/main/media/logo/newebac_logo_black_half.png\" alt=\"ebac-logo\">\n",
        "\n",
        "---\n",
        "\n",
        "# **Módulo** | Computação em Nuvem III\n",
        "Caderno de **Exercícios**<br>\n",
        "Professor [André Perez](https://www.linkedin.com/in/andremarcosperez/)\n",
        "\n",
        "---"
      ]
    },
    {
      "cell_type": "markdown",
      "metadata": {
        "id": "d9jDtUbDOE1-"
      },
      "source": [
        "# **Tópicos**\n",
        "\n",
        "<ol type=\"1\">\n",
        "  <li>AWS EC2;</li>\n",
        "  <li>AWS SageMaker;</li>\n",
        "  <li>AWS Acesso Externo.</li>\n",
        "</ol>"
      ]
    },
    {
      "cell_type": "markdown",
      "metadata": {
        "id": "SmoHgt-lwkpD"
      },
      "source": [
        "---"
      ]
    },
    {
      "cell_type": "markdown",
      "metadata": {
        "id": "GABI6OW8OfQ2"
      },
      "source": [
        "# **Exercícios**"
      ]
    },
    {
      "cell_type": "markdown",
      "metadata": {
        "id": "ne7Ay0HKaGSv"
      },
      "source": [
        "## 1\\. AWS SageMaker"
      ]
    },
    {
      "cell_type": "markdown",
      "metadata": {
        "id": "OQxOVktrzG9I"
      },
      "source": [
        "Replique as atividades do item 2.3 em sua conta."
      ]
    },
    {
      "cell_type": "markdown",
      "source": [
        "> **Objeto para o bucket do AWS S3**"
      ],
      "metadata": {
        "id": "5C9KSWymd8Em"
      }
    },
    {
      "cell_type": "code",
      "source": [
        "%%writefile cotacao.csv\n",
        "date,usd,eur,gbp\n",
        "2021-01-21,5.4582,6.1896,7.3980\n",
        "2021-01-20,5.4191,6.1290,7.3673\n",
        "2021-01-19,5.4383,6.1676,7.3994\n",
        "2021-01-18,5.5666,6.3042,7.5672"
      ],
      "metadata": {
        "colab": {
          "base_uri": "https://localhost:8080/"
        },
        "id": "wBWbiJOHd50R",
        "outputId": "dfb6015b-6eb6-4b52-96d9-b7198d7677c6"
      },
      "execution_count": null,
      "outputs": [
        {
          "output_type": "stream",
          "name": "stdout",
          "text": [
            "Writing cotacao.csv\n"
          ]
        }
      ]
    },
    {
      "cell_type": "markdown",
      "source": [
        "```python\n",
        "Caminho bucket: 's3://modulo-40-ebac-fernanda/'\n",
        "\n",
        "*   Item da lista\n",
        "*   Item da lista\n",
        "\n",
        "\n",
        "```\n",
        "**Print relacionado:** `Bucket.png`.\n"
      ],
      "metadata": {
        "id": "BCFuNAipeYzp"
      }
    },
    {
      "cell_type": "code",
      "source": [
        "# -- Código de leitura:\n",
        "import boto3\n",
        "import pandas as pd\n",
        "\n",
        "BUCKET = 'modulo-40-ebac-fernanda'\n",
        "\n",
        "df = pd.read_csv(f's3://{BUCKET}/cotacao.csv')\n",
        "df.head()"
      ],
      "metadata": {
        "id": "5dCiI4KMfrLr"
      },
      "execution_count": null,
      "outputs": []
    },
    {
      "cell_type": "markdown",
      "source": [
        "**Prints relacionados:** `Bucket.png`, `Instancia-SageMaker.png` e `Notebook-SageMaker.png`.\n",
        "\n",
        "---\n",
        "\n",
        "Após a execução foi realizado o *Shut Down* do notebook e a máquina virtual foi **desligada**."
      ],
      "metadata": {
        "id": "Rzbb6T9ciblC"
      }
    },
    {
      "cell_type": "markdown",
      "metadata": {
        "id": "EvJTE2FpaGeU"
      },
      "source": [
        "## 2\\. AWS Acesso Externo"
      ]
    },
    {
      "cell_type": "markdown",
      "metadata": {
        "id": "ISYXZbomlb1x"
      },
      "source": [
        "Replique as atividades do item 3.1 em sua conta.\n"
      ]
    },
    {
      "cell_type": "code",
      "source": [
        "!pip install boto3"
      ],
      "metadata": {
        "id": "6GVj1DIujDj_",
        "colab": {
          "base_uri": "https://localhost:8080/"
        },
        "outputId": "68a19da2-394f-4340-c5cf-0bea45d59427"
      },
      "execution_count": 2,
      "outputs": [
        {
          "output_type": "stream",
          "name": "stdout",
          "text": [
            "Collecting boto3\n",
            "  Downloading boto3-1.34.48-py3-none-any.whl (139 kB)\n",
            "\u001b[2K     \u001b[90m━━━━━━━━━━━━━━━━━━━━━━━━━━━━━━━━━━━━━━━━\u001b[0m \u001b[32m139.3/139.3 kB\u001b[0m \u001b[31m3.2 MB/s\u001b[0m eta \u001b[36m0:00:00\u001b[0m\n",
            "\u001b[?25hCollecting botocore<1.35.0,>=1.34.48 (from boto3)\n",
            "  Downloading botocore-1.34.48-py3-none-any.whl (12.0 MB)\n",
            "\u001b[2K     \u001b[90m━━━━━━━━━━━━━━━━━━━━━━━━━━━━━━━━━━━━━━━━\u001b[0m \u001b[32m12.0/12.0 MB\u001b[0m \u001b[31m22.5 MB/s\u001b[0m eta \u001b[36m0:00:00\u001b[0m\n",
            "\u001b[?25hCollecting jmespath<2.0.0,>=0.7.1 (from boto3)\n",
            "  Downloading jmespath-1.0.1-py3-none-any.whl (20 kB)\n",
            "Collecting s3transfer<0.11.0,>=0.10.0 (from boto3)\n",
            "  Downloading s3transfer-0.10.0-py3-none-any.whl (82 kB)\n",
            "\u001b[2K     \u001b[90m━━━━━━━━━━━━━━━━━━━━━━━━━━━━━━━━━━━━━━━━\u001b[0m \u001b[32m82.1/82.1 kB\u001b[0m \u001b[31m11.4 MB/s\u001b[0m eta \u001b[36m0:00:00\u001b[0m\n",
            "\u001b[?25hRequirement already satisfied: python-dateutil<3.0.0,>=2.1 in /usr/local/lib/python3.10/dist-packages (from botocore<1.35.0,>=1.34.48->boto3) (2.8.2)\n",
            "Requirement already satisfied: urllib3<2.1,>=1.25.4 in /usr/local/lib/python3.10/dist-packages (from botocore<1.35.0,>=1.34.48->boto3) (2.0.7)\n",
            "Requirement already satisfied: six>=1.5 in /usr/local/lib/python3.10/dist-packages (from python-dateutil<3.0.0,>=2.1->botocore<1.35.0,>=1.34.48->boto3) (1.16.0)\n",
            "Installing collected packages: jmespath, botocore, s3transfer, boto3\n",
            "Successfully installed boto3-1.34.48 botocore-1.34.48 jmespath-1.0.1 s3transfer-0.10.0\n"
          ]
        }
      ]
    },
    {
      "cell_type": "markdown",
      "source": [
        "> **Configuração das credenciais**"
      ],
      "metadata": {
        "id": "itOzYCf9jH7K"
      }
    },
    {
      "cell_type": "code",
      "source": [
        "# -- Chave de acesso (ID):\n",
        "from getpass import getpass\n",
        "aws_access_key_id = getpass()"
      ],
      "metadata": {
        "colab": {
          "base_uri": "https://localhost:8080/"
        },
        "id": "hjEQTlTwjNq-",
        "outputId": "96ca0029-47d6-440f-ddc1-ded69906cbf9"
      },
      "execution_count": 3,
      "outputs": [
        {
          "name": "stdout",
          "output_type": "stream",
          "text": [
            "··········\n"
          ]
        }
      ]
    },
    {
      "cell_type": "code",
      "source": [
        "# -- Chave de acesso (Chave Secreta):\n",
        "from getpass import getpass\n",
        "aws_secret_access_key = getpass()"
      ],
      "metadata": {
        "colab": {
          "base_uri": "https://localhost:8080/"
        },
        "id": "il7reh8Tjqx7",
        "outputId": "9999ff24-78bc-427e-9a4a-2b5c5dec0c59"
      },
      "execution_count": 5,
      "outputs": [
        {
          "name": "stdout",
          "output_type": "stream",
          "text": [
            "··········\n"
          ]
        }
      ]
    },
    {
      "cell_type": "markdown",
      "source": [
        "**Print relacioando:** `Role-IAM.png`."
      ],
      "metadata": {
        "id": "grVxWlCClN8v"
      }
    },
    {
      "cell_type": "markdown",
      "source": [
        "> **Conectando e interagindo com o bucket do S3**"
      ],
      "metadata": {
        "id": "1JaUDyztj0oN"
      }
    },
    {
      "cell_type": "code",
      "source": [
        "import boto3\n",
        "import pandas as pd\n",
        "\n",
        "client = boto3.client(\n",
        "    's3',\n",
        "    aws_access_key_id = aws_access_key_id,\n",
        "    aws_secret_access_key = aws_secret_access_key\n",
        ")\n",
        "\n",
        "BUCKET = 'modul-40-ebac-fernandasantos225'\n",
        "\n",
        "client.download_file(BUCKET, 'cotacao.csv', 'cotacao_aws.csv')"
      ],
      "metadata": {
        "id": "THfKKOB_3EV7"
      },
      "execution_count": null,
      "outputs": []
    },
    {
      "cell_type": "code",
      "source": [
        "# -- Lendo com o pandas:\n",
        "dados_cotacoes = pd.read_csv('cotacao_aws.csv')\n",
        "dados_cotacoes.head()"
      ],
      "metadata": {
        "id": "I_NzNy1p3GmE"
      },
      "execution_count": null,
      "outputs": []
    }
  ]
}